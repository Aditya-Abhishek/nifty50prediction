{
 "cells": [
  {
   "cell_type": "code",
   "execution_count": 3,
   "id": "38d1866e",
   "metadata": {},
   "outputs": [
    {
     "name": "stderr",
     "output_type": "stream",
     "text": [
      "/Users/adityaabhishek/opt/anaconda3/lib/python3.9/site-packages/yfinance/base.py:48: FutureWarning: The default dtype for empty Series will be 'object' instead of 'float64' in a future version. Specify a dtype explicitly to silence this warning.\n",
      "  _empty_series = pd.Series()\n"
     ]
    }
   ],
   "source": [
    "import yfinance as yf\n",
    "import pandas as pd\n",
    "import os"
   ]
  },
  {
   "cell_type": "code",
   "execution_count": 5,
   "id": "412d8258",
   "metadata": {},
   "outputs": [],
   "source": [
    "nifty50 = yf.Ticker(\"^NSEI\")\n",
    "   \n"
   ]
  },
  {
   "cell_type": "code",
   "execution_count": 7,
   "id": "9d61dcc8",
   "metadata": {},
   "outputs": [],
   "source": [
    " nifty50 = nifty50.history(period=\"max\")"
   ]
  },
  {
   "cell_type": "code",
   "execution_count": 8,
   "id": "7805bedb",
   "metadata": {},
   "outputs": [
    {
     "data": {
      "text/html": [
       "<div>\n",
       "<style scoped>\n",
       "    .dataframe tbody tr th:only-of-type {\n",
       "        vertical-align: middle;\n",
       "    }\n",
       "\n",
       "    .dataframe tbody tr th {\n",
       "        vertical-align: top;\n",
       "    }\n",
       "\n",
       "    .dataframe thead th {\n",
       "        text-align: right;\n",
       "    }\n",
       "</style>\n",
       "<table border=\"1\" class=\"dataframe\">\n",
       "  <thead>\n",
       "    <tr style=\"text-align: right;\">\n",
       "      <th></th>\n",
       "      <th>Open</th>\n",
       "      <th>High</th>\n",
       "      <th>Low</th>\n",
       "      <th>Close</th>\n",
       "      <th>Volume</th>\n",
       "      <th>Dividends</th>\n",
       "      <th>Stock Splits</th>\n",
       "    </tr>\n",
       "    <tr>\n",
       "      <th>Date</th>\n",
       "      <th></th>\n",
       "      <th></th>\n",
       "      <th></th>\n",
       "      <th></th>\n",
       "      <th></th>\n",
       "      <th></th>\n",
       "      <th></th>\n",
       "    </tr>\n",
       "  </thead>\n",
       "  <tbody>\n",
       "    <tr>\n",
       "      <th>2007-09-17 00:00:00+05:30</th>\n",
       "      <td>4518.450195</td>\n",
       "      <td>4549.049805</td>\n",
       "      <td>4482.850098</td>\n",
       "      <td>4494.649902</td>\n",
       "      <td>0</td>\n",
       "      <td>0.0</td>\n",
       "      <td>0.0</td>\n",
       "    </tr>\n",
       "    <tr>\n",
       "      <th>2007-09-18 00:00:00+05:30</th>\n",
       "      <td>4494.100098</td>\n",
       "      <td>4551.799805</td>\n",
       "      <td>4481.549805</td>\n",
       "      <td>4546.200195</td>\n",
       "      <td>0</td>\n",
       "      <td>0.0</td>\n",
       "      <td>0.0</td>\n",
       "    </tr>\n",
       "    <tr>\n",
       "      <th>2007-09-19 00:00:00+05:30</th>\n",
       "      <td>4550.250000</td>\n",
       "      <td>4739.000000</td>\n",
       "      <td>4550.250000</td>\n",
       "      <td>4732.350098</td>\n",
       "      <td>0</td>\n",
       "      <td>0.0</td>\n",
       "      <td>0.0</td>\n",
       "    </tr>\n",
       "    <tr>\n",
       "      <th>2007-09-20 00:00:00+05:30</th>\n",
       "      <td>4734.850098</td>\n",
       "      <td>4760.850098</td>\n",
       "      <td>4721.149902</td>\n",
       "      <td>4747.549805</td>\n",
       "      <td>0</td>\n",
       "      <td>0.0</td>\n",
       "      <td>0.0</td>\n",
       "    </tr>\n",
       "    <tr>\n",
       "      <th>2007-09-21 00:00:00+05:30</th>\n",
       "      <td>4752.950195</td>\n",
       "      <td>4855.700195</td>\n",
       "      <td>4733.700195</td>\n",
       "      <td>4837.549805</td>\n",
       "      <td>0</td>\n",
       "      <td>0.0</td>\n",
       "      <td>0.0</td>\n",
       "    </tr>\n",
       "    <tr>\n",
       "      <th>...</th>\n",
       "      <td>...</td>\n",
       "      <td>...</td>\n",
       "      <td>...</td>\n",
       "      <td>...</td>\n",
       "      <td>...</td>\n",
       "      <td>...</td>\n",
       "      <td>...</td>\n",
       "    </tr>\n",
       "    <tr>\n",
       "      <th>2024-01-19 00:00:00+05:30</th>\n",
       "      <td>21615.199219</td>\n",
       "      <td>21670.599609</td>\n",
       "      <td>21575.000000</td>\n",
       "      <td>21622.400391</td>\n",
       "      <td>343100</td>\n",
       "      <td>0.0</td>\n",
       "      <td>0.0</td>\n",
       "    </tr>\n",
       "    <tr>\n",
       "      <th>2024-01-23 00:00:00+05:30</th>\n",
       "      <td>21716.699219</td>\n",
       "      <td>21750.250000</td>\n",
       "      <td>21192.599609</td>\n",
       "      <td>21238.800781</td>\n",
       "      <td>449700</td>\n",
       "      <td>0.0</td>\n",
       "      <td>0.0</td>\n",
       "    </tr>\n",
       "    <tr>\n",
       "      <th>2024-01-24 00:00:00+05:30</th>\n",
       "      <td>21185.250000</td>\n",
       "      <td>21482.349609</td>\n",
       "      <td>21137.199219</td>\n",
       "      <td>21453.949219</td>\n",
       "      <td>407500</td>\n",
       "      <td>0.0</td>\n",
       "      <td>0.0</td>\n",
       "    </tr>\n",
       "    <tr>\n",
       "      <th>2024-01-25 00:00:00+05:30</th>\n",
       "      <td>21454.599609</td>\n",
       "      <td>21459.000000</td>\n",
       "      <td>21247.050781</td>\n",
       "      <td>21352.599609</td>\n",
       "      <td>418100</td>\n",
       "      <td>0.0</td>\n",
       "      <td>0.0</td>\n",
       "    </tr>\n",
       "    <tr>\n",
       "      <th>2024-01-29 00:00:00+05:30</th>\n",
       "      <td>21433.099609</td>\n",
       "      <td>21763.250000</td>\n",
       "      <td>21429.599609</td>\n",
       "      <td>21737.599609</td>\n",
       "      <td>0</td>\n",
       "      <td>0.0</td>\n",
       "      <td>0.0</td>\n",
       "    </tr>\n",
       "  </tbody>\n",
       "</table>\n",
       "<p>4010 rows × 7 columns</p>\n",
       "</div>"
      ],
      "text/plain": [
       "                                   Open          High           Low  \\\n",
       "Date                                                                  \n",
       "2007-09-17 00:00:00+05:30   4518.450195   4549.049805   4482.850098   \n",
       "2007-09-18 00:00:00+05:30   4494.100098   4551.799805   4481.549805   \n",
       "2007-09-19 00:00:00+05:30   4550.250000   4739.000000   4550.250000   \n",
       "2007-09-20 00:00:00+05:30   4734.850098   4760.850098   4721.149902   \n",
       "2007-09-21 00:00:00+05:30   4752.950195   4855.700195   4733.700195   \n",
       "...                                 ...           ...           ...   \n",
       "2024-01-19 00:00:00+05:30  21615.199219  21670.599609  21575.000000   \n",
       "2024-01-23 00:00:00+05:30  21716.699219  21750.250000  21192.599609   \n",
       "2024-01-24 00:00:00+05:30  21185.250000  21482.349609  21137.199219   \n",
       "2024-01-25 00:00:00+05:30  21454.599609  21459.000000  21247.050781   \n",
       "2024-01-29 00:00:00+05:30  21433.099609  21763.250000  21429.599609   \n",
       "\n",
       "                                  Close  Volume  Dividends  Stock Splits  \n",
       "Date                                                                      \n",
       "2007-09-17 00:00:00+05:30   4494.649902       0        0.0           0.0  \n",
       "2007-09-18 00:00:00+05:30   4546.200195       0        0.0           0.0  \n",
       "2007-09-19 00:00:00+05:30   4732.350098       0        0.0           0.0  \n",
       "2007-09-20 00:00:00+05:30   4747.549805       0        0.0           0.0  \n",
       "2007-09-21 00:00:00+05:30   4837.549805       0        0.0           0.0  \n",
       "...                                 ...     ...        ...           ...  \n",
       "2024-01-19 00:00:00+05:30  21622.400391  343100        0.0           0.0  \n",
       "2024-01-23 00:00:00+05:30  21238.800781  449700        0.0           0.0  \n",
       "2024-01-24 00:00:00+05:30  21453.949219  407500        0.0           0.0  \n",
       "2024-01-25 00:00:00+05:30  21352.599609  418100        0.0           0.0  \n",
       "2024-01-29 00:00:00+05:30  21737.599609       0        0.0           0.0  \n",
       "\n",
       "[4010 rows x 7 columns]"
      ]
     },
     "execution_count": 8,
     "metadata": {},
     "output_type": "execute_result"
    }
   ],
   "source": [
    "nifty50"
   ]
  },
  {
   "cell_type": "code",
   "execution_count": 9,
   "id": "d6dec39c",
   "metadata": {},
   "outputs": [
    {
     "data": {
      "text/plain": [
       "DatetimeIndex(['2007-09-17 00:00:00+05:30', '2007-09-18 00:00:00+05:30',\n",
       "               '2007-09-19 00:00:00+05:30', '2007-09-20 00:00:00+05:30',\n",
       "               '2007-09-21 00:00:00+05:30', '2007-09-24 00:00:00+05:30',\n",
       "               '2007-09-25 00:00:00+05:30', '2007-09-26 00:00:00+05:30',\n",
       "               '2007-09-27 00:00:00+05:30', '2007-09-28 00:00:00+05:30',\n",
       "               ...\n",
       "               '2024-01-12 00:00:00+05:30', '2024-01-15 00:00:00+05:30',\n",
       "               '2024-01-16 00:00:00+05:30', '2024-01-17 00:00:00+05:30',\n",
       "               '2024-01-18 00:00:00+05:30', '2024-01-19 00:00:00+05:30',\n",
       "               '2024-01-23 00:00:00+05:30', '2024-01-24 00:00:00+05:30',\n",
       "               '2024-01-25 00:00:00+05:30', '2024-01-29 00:00:00+05:30'],\n",
       "              dtype='datetime64[ns, Asia/Kolkata]', name='Date', length=4010, freq=None)"
      ]
     },
     "execution_count": 9,
     "metadata": {},
     "output_type": "execute_result"
    }
   ],
   "source": [
    "nifty50.index"
   ]
  },
  {
   "cell_type": "code",
   "execution_count": 10,
   "id": "3169a6ce",
   "metadata": {},
   "outputs": [
    {
     "data": {
      "text/plain": [
       "<AxesSubplot:xlabel='Date'>"
      ]
     },
     "execution_count": 10,
     "metadata": {},
     "output_type": "execute_result"
    },
    {
     "data": {
      "image/png": "[encoded data removed]",
      "text/plain": [
       "<Figure size 640x480 with 1 Axes>"
      ]
     },
     "metadata": {},
     "output_type": "display_data"
    }
   ],
   "source": [
    "nifty50.plot.line(y=\"Close\", use_index=True)"
   ]
  },
  {
   "cell_type": "code",
   "execution_count": 11,
   "id": "12914083",
   "metadata": {},
   "outputs": [],
   "source": [
    "del nifty50[\"Dividends\"]\n",
    "del nifty50[\"Stock Splits\"]"
   ]
  },
  {
   "cell_type": "code",
   "execution_count": 12,
   "id": "6fff7b3d",
   "metadata": {},
   "outputs": [],
   "source": [
    "nifty50[\"Tomorrow\"] = nifty50[\"Close\"].shift(-1)"
   ]
  },
  {
   "cell_type": "code",
   "execution_count": 13,
   "id": "b9e98744",
   "metadata": {},
   "outputs": [
    {
     "data": {
      "text/html": [
       "<div>\n",
       "<style scoped>\n",
       "    .dataframe tbody tr th:only-of-type {\n",
       "        vertical-align: middle;\n",
       "    }\n",
       "\n",
       "    .dataframe tbody tr th {\n",
       "        vertical-align: top;\n",
       "    }\n",
       "\n",
       "    .dataframe thead th {\n",
       "        text-align: right;\n",
       "    }\n",
       "</style>\n",
       "<table border=\"1\" class=\"dataframe\">\n",
       "  <thead>\n",
       "    <tr style=\"text-align: right;\">\n",
       "      <th></th>\n",
       "      <th>Open</th>\n",
       "      <th>High</th>\n",
       "      <th>Low</th>\n",
       "      <th>Close</th>\n",
       "      <th>Volume</th>\n",
       "      <th>Tomorrow</th>\n",
       "    </tr>\n",
       "    <tr>\n",
       "      <th>Date</th>\n",
       "      <th></th>\n",
       "      <th></th>\n",
       "      <th></th>\n",
       "      <th></th>\n",
       "      <th></th>\n",
       "      <th></th>\n",
       "    </tr>\n",
       "  </thead>\n",
       "  <tbody>\n",
       "    <tr>\n",
       "      <th>2007-09-17 00:00:00+05:30</th>\n",
       "      <td>4518.450195</td>\n",
       "      <td>4549.049805</td>\n",
       "      <td>4482.850098</td>\n",
       "      <td>4494.649902</td>\n",
       "      <td>0</td>\n",
       "      <td>4546.200195</td>\n",
       "    </tr>\n",
       "    <tr>\n",
       "      <th>2007-09-18 00:00:00+05:30</th>\n",
       "      <td>4494.100098</td>\n",
       "      <td>4551.799805</td>\n",
       "      <td>4481.549805</td>\n",
       "      <td>4546.200195</td>\n",
       "      <td>0</td>\n",
       "      <td>4732.350098</td>\n",
       "    </tr>\n",
       "    <tr>\n",
       "      <th>2007-09-19 00:00:00+05:30</th>\n",
       "      <td>4550.250000</td>\n",
       "      <td>4739.000000</td>\n",
       "      <td>4550.250000</td>\n",
       "      <td>4732.350098</td>\n",
       "      <td>0</td>\n",
       "      <td>4747.549805</td>\n",
       "    </tr>\n",
       "    <tr>\n",
       "      <th>2007-09-20 00:00:00+05:30</th>\n",
       "      <td>4734.850098</td>\n",
       "      <td>4760.850098</td>\n",
       "      <td>4721.149902</td>\n",
       "      <td>4747.549805</td>\n",
       "      <td>0</td>\n",
       "      <td>4837.549805</td>\n",
       "    </tr>\n",
       "    <tr>\n",
       "      <th>2007-09-21 00:00:00+05:30</th>\n",
       "      <td>4752.950195</td>\n",
       "      <td>4855.700195</td>\n",
       "      <td>4733.700195</td>\n",
       "      <td>4837.549805</td>\n",
       "      <td>0</td>\n",
       "      <td>4932.200195</td>\n",
       "    </tr>\n",
       "    <tr>\n",
       "      <th>...</th>\n",
       "      <td>...</td>\n",
       "      <td>...</td>\n",
       "      <td>...</td>\n",
       "      <td>...</td>\n",
       "      <td>...</td>\n",
       "      <td>...</td>\n",
       "    </tr>\n",
       "    <tr>\n",
       "      <th>2024-01-19 00:00:00+05:30</th>\n",
       "      <td>21615.199219</td>\n",
       "      <td>21670.599609</td>\n",
       "      <td>21575.000000</td>\n",
       "      <td>21622.400391</td>\n",
       "      <td>343100</td>\n",
       "      <td>21238.800781</td>\n",
       "    </tr>\n",
       "    <tr>\n",
       "      <th>2024-01-23 00:00:00+05:30</th>\n",
       "      <td>21716.699219</td>\n",
       "      <td>21750.250000</td>\n",
       "      <td>21192.599609</td>\n",
       "      <td>21238.800781</td>\n",
       "      <td>449700</td>\n",
       "      <td>21453.949219</td>\n",
       "    </tr>\n",
       "    <tr>\n",
       "      <th>2024-01-24 00:00:00+05:30</th>\n",
       "      <td>21185.250000</td>\n",
       "      <td>21482.349609</td>\n",
       "      <td>21137.199219</td>\n",
       "      <td>21453.949219</td>\n",
       "      <td>407500</td>\n",
       "      <td>21352.599609</td>\n",
       "    </tr>\n",
       "    <tr>\n",
       "      <th>2024-01-25 00:00:00+05:30</th>\n",
       "      <td>21454.599609</td>\n",
       "      <td>21459.000000</td>\n",
       "      <td>21247.050781</td>\n",
       "      <td>21352.599609</td>\n",
       "      <td>418100</td>\n",
       "      <td>21737.599609</td>\n",
       "    </tr>\n",
       "    <tr>\n",
       "      <th>2024-01-29 00:00:00+05:30</th>\n",
       "      <td>21433.099609</td>\n",
       "      <td>21763.250000</td>\n",
       "      <td>21429.599609</td>\n",
       "      <td>21737.599609</td>\n",
       "      <td>0</td>\n",
       "      <td>NaN</td>\n",
       "    </tr>\n",
       "  </tbody>\n",
       "</table>\n",
       "<p>4010 rows × 6 columns</p>\n",
       "</div>"
      ],
      "text/plain": [
       "                                   Open          High           Low  \\\n",
       "Date                                                                  \n",
       "2007-09-17 00:00:00+05:30   4518.450195   4549.049805   4482.850098   \n",
       "2007-09-18 00:00:00+05:30   4494.100098   4551.799805   4481.549805   \n",
       "2007-09-19 00:00:00+05:30   4550.250000   4739.000000   4550.250000   \n",
       "2007-09-20 00:00:00+05:30   4734.850098   4760.850098   4721.149902   \n",
       "2007-09-21 00:00:00+05:30   4752.950195   4855.700195   4733.700195   \n",
       "...                                 ...           ...           ...   \n",
       "2024-01-19 00:00:00+05:30  21615.199219  21670.599609  21575.000000   \n",
       "2024-01-23 00:00:00+05:30  21716.699219  21750.250000  21192.599609   \n",
       "2024-01-24 00:00:00+05:30  21185.250000  21482.349609  21137.199219   \n",
       "2024-01-25 00:00:00+05:30  21454.599609  21459.000000  21247.050781   \n",
       "2024-01-29 00:00:00+05:30  21433.099609  21763.250000  21429.599609   \n",
       "\n",
       "                                  Close  Volume      Tomorrow  \n",
       "Date                                                           \n",
       "2007-09-17 00:00:00+05:30   4494.649902       0   4546.200195  \n",
       "2007-09-18 00:00:00+05:30   4546.200195       0   4732.350098  \n",
       "2007-09-19 00:00:00+05:30   4732.350098       0   4747.549805  \n",
       "2007-09-20 00:00:00+05:30   4747.549805       0   4837.549805  \n",
       "2007-09-21 00:00:00+05:30   4837.549805       0   4932.200195  \n",
       "...                                 ...     ...           ...  \n",
       "2024-01-19 00:00:00+05:30  21622.400391  343100  21238.800781  \n",
       "2024-01-23 00:00:00+05:30  21238.800781  449700  21453.949219  \n",
       "2024-01-24 00:00:00+05:30  21453.949219  407500  21352.599609  \n",
       "2024-01-25 00:00:00+05:30  21352.599609  418100  21737.599609  \n",
       "2024-01-29 00:00:00+05:30  21737.599609       0           NaN  \n",
       "\n",
       "[4010 rows x 6 columns]"
      ]
     },
     "execution_count": 13,
     "metadata": {},
     "output_type": "execute_result"
    }
   ],
   "source": [
    "nifty50"
   ]
  },
  {
   "cell_type": "code",
   "execution_count": 14,
   "id": "296795ef",
   "metadata": {},
   "outputs": [],
   "source": [
    "nifty50[\"Target\"] = (nifty50[\"Tomorrow\"] > nifty50[\"Close\"]).astype(int)"
   ]
  },
  {
   "cell_type": "code",
   "execution_count": 15,
   "id": "6afe50e5",
   "metadata": {},
   "outputs": [
    {
     "data": {
      "text/plain": [
       "RandomForestClassifier(min_samples_split=100, random_state=1)"
      ]
     },
     "execution_count": 15,
     "metadata": {},
     "output_type": "execute_result"
    }
   ],
   "source": [
    "from sklearn.ensemble import RandomForestClassifier\n",
    "\n",
    "model = RandomForestClassifier(n_estimators=100, min_samples_split=100, random_state=1)\n",
    "\n",
    "train = nifty50.iloc[:-100]\n",
    "test = nifty50.iloc[-100:]\n",
    "\n",
    "predictors = [\"Close\", \"Volume\", \"Open\", \"High\", \"Low\"]\n",
    "model.fit(train[predictors], train[\"Target\"])"
   ]
  },
  {
   "cell_type": "code",
   "execution_count": 16,
   "id": "3b40d1ed",
   "metadata": {},
   "outputs": [
    {
     "data": {
      "text/plain": [
       "0.5294117647058824"
      ]
     },
     "execution_count": 16,
     "metadata": {},
     "output_type": "execute_result"
    }
   ],
   "source": [
    "from sklearn.metrics import precision_score\n",
    "\n",
    "preds = model.predict(test[predictors])\n",
    "preds = pd.Series(preds, index=test.index)\n",
    "precision_score(test[\"Target\"], preds)"
   ]
  },
  {
   "cell_type": "code",
   "execution_count": 17,
   "id": "84751f73",
   "metadata": {},
   "outputs": [
    {
     "data": {
      "text/plain": [
       "Date\n",
       "2023-08-30 00:00:00+05:30    1\n",
       "2023-08-31 00:00:00+05:30    1\n",
       "2023-09-01 00:00:00+05:30    1\n",
       "2023-09-04 00:00:00+05:30    1\n",
       "2023-09-05 00:00:00+05:30    1\n",
       "                            ..\n",
       "2024-01-19 00:00:00+05:30    0\n",
       "2024-01-23 00:00:00+05:30    0\n",
       "2024-01-24 00:00:00+05:30    0\n",
       "2024-01-25 00:00:00+05:30    0\n",
       "2024-01-29 00:00:00+05:30    1\n",
       "Length: 100, dtype: int64"
      ]
     },
     "execution_count": 17,
     "metadata": {},
     "output_type": "execute_result"
    }
   ],
   "source": [
    "preds"
   ]
  },
  {
   "cell_type": "code",
   "execution_count": 18,
   "id": "7b1384c3",
   "metadata": {},
   "outputs": [
    {
     "data": {
      "text/plain": [
       "<AxesSubplot:xlabel='Date'>"
      ]
     },
     "execution_count": 18,
     "metadata": {},
     "output_type": "execute_result"
    },
    {
     "data": {
      "image/png": "[encoded data removed]",
      "text/plain": [
       "<Figure size 640x480 with 1 Axes>"
      ]
     },
     "metadata": {},
     "output_type": "display_data"
    }
   ],
   "source": [
    "combined = pd.concat([test[\"Target\"], preds], axis=1)\n",
    "combined.plot()"
   ]
  },
  {
   "cell_type": "code",
   "execution_count": 19,
   "id": "ce4b117e",
   "metadata": {},
   "outputs": [],
   "source": [
    "def predict(train, test, predictors, model):\n",
    "    model.fit(train[predictors], train[\"Target\"])\n",
    "    preds = model.predict(test[predictors])\n",
    "    preds = pd.Series(preds, index=test.index, name=\"Predictions\")\n",
    "    combined = pd.concat([test[\"Target\"], preds], axis=1)\n",
    "    return combined"
   ]
  },
  {
   "cell_type": "code",
   "execution_count": 20,
   "id": "9a6334b5",
   "metadata": {},
   "outputs": [],
   "source": [
    "def backtest(data, model, predictors, start=2500, step=250):\n",
    "    all_predictions = []\n",
    "\n",
    "    for i in range(start, data.shape[0], step):\n",
    "        train = data.iloc[0:i].copy()\n",
    "        test = data.iloc[i:(i+step)].copy()\n",
    "        predictions = predict(train, test, predictors, model)\n",
    "        all_predictions.append(predictions)\n",
    "    \n",
    "    return pd.concat(all_predictions)"
   ]
  },
  {
   "cell_type": "code",
   "execution_count": 21,
   "id": "300ca862",
   "metadata": {},
   "outputs": [],
   "source": [
    "predictions = backtest(nifty50, model, predictors)"
   ]
  },
  {
   "cell_type": "code",
   "execution_count": 22,
   "id": "c306cf30",
   "metadata": {},
   "outputs": [
    {
     "data": {
      "text/plain": [
       "0    759\n",
       "1    751\n",
       "Name: Predictions, dtype: int64"
      ]
     },
     "execution_count": 22,
     "metadata": {},
     "output_type": "execute_result"
    }
   ],
   "source": [
    "predictions[\"Predictions\"].value_counts()"
   ]
  },
  {
   "cell_type": "code",
   "execution_count": 23,
   "id": "c80f5d72",
   "metadata": {},
   "outputs": [
    {
     "data": {
      "text/plain": [
       "0.5392809587217043"
      ]
     },
     "execution_count": 23,
     "metadata": {},
     "output_type": "execute_result"
    }
   ],
   "source": [
    "precision_score(predictions[\"Target\"], predictions[\"Predictions\"])"
   ]
  },
  {
   "cell_type": "code",
   "execution_count": 24,
   "id": "8db026ea",
   "metadata": {},
   "outputs": [
    {
     "data": {
      "text/plain": [
       "1    0.547682\n",
       "0    0.452318\n",
       "Name: Target, dtype: float64"
      ]
     },
     "execution_count": 24,
     "metadata": {},
     "output_type": "execute_result"
    }
   ],
   "source": [
    "predictions[\"Target\"].value_counts() / predictions.shape[0]"
   ]
  },
  {
   "cell_type": "code",
   "execution_count": 25,
   "id": "16ed203e",
   "metadata": {},
   "outputs": [],
   "source": [
    "horizons = [2,5,60,250,1000]\n",
    "new_predictors = []\n",
    "\n",
    "for horizon in horizons:\n",
    "    rolling_averages = nifty50.rolling(horizon).mean()\n",
    "    \n",
    "    ratio_column = f\"Close_Ratio_{horizon}\"\n",
    "    nifty50[ratio_column] = nifty50[\"Close\"] / rolling_averages[\"Close\"]\n",
    "    \n",
    "    trend_column = f\"Trend_{horizon}\"\n",
    "    nifty50[trend_column] = nifty50.shift(1).rolling(horizon).sum()[\"Target\"]\n",
    "    \n",
    "    new_predictors+= [ratio_column, trend_column]"
   ]
  },
  {
   "cell_type": "code",
   "execution_count": 26,
   "id": "95224d1d",
   "metadata": {},
   "outputs": [],
   "source": [
    "nifty50 = nifty50.dropna(subset=nifty50.columns[nifty50.columns != \"Tomorrow\"])"
   ]
  },
  {
   "cell_type": "code",
   "execution_count": 27,
   "id": "8aff897c",
   "metadata": {},
   "outputs": [
    {
     "data": {
      "text/html": [
       "<div>\n",
       "<style scoped>\n",
       "    .dataframe tbody tr th:only-of-type {\n",
       "        vertical-align: middle;\n",
       "    }\n",
       "\n",
       "    .dataframe tbody tr th {\n",
       "        vertical-align: top;\n",
       "    }\n",
       "\n",
       "    .dataframe thead th {\n",
       "        text-align: right;\n",
       "    }\n",
       "</style>\n",
       "<table border=\"1\" class=\"dataframe\">\n",
       "  <thead>\n",
       "    <tr style=\"text-align: right;\">\n",
       "      <th></th>\n",
       "      <th>Open</th>\n",
       "      <th>High</th>\n",
       "      <th>Low</th>\n",
       "      <th>Close</th>\n",
       "      <th>Volume</th>\n",
       "      <th>Tomorrow</th>\n",
       "      <th>Target</th>\n",
       "      <th>Close_Ratio_2</th>\n",
       "      <th>Trend_2</th>\n",
       "      <th>Close_Ratio_5</th>\n",
       "      <th>Trend_5</th>\n",
       "      <th>Close_Ratio_60</th>\n",
       "      <th>Trend_60</th>\n",
       "      <th>Close_Ratio_250</th>\n",
       "      <th>Trend_250</th>\n",
       "      <th>Close_Ratio_1000</th>\n",
       "      <th>Trend_1000</th>\n",
       "    </tr>\n",
       "    <tr>\n",
       "      <th>Date</th>\n",
       "      <th></th>\n",
       "      <th></th>\n",
       "      <th></th>\n",
       "      <th></th>\n",
       "      <th></th>\n",
       "      <th></th>\n",
       "      <th></th>\n",
       "      <th></th>\n",
       "      <th></th>\n",
       "      <th></th>\n",
       "      <th></th>\n",
       "      <th></th>\n",
       "      <th></th>\n",
       "      <th></th>\n",
       "      <th></th>\n",
       "      <th></th>\n",
       "      <th></th>\n",
       "    </tr>\n",
       "  </thead>\n",
       "  <tbody>\n",
       "    <tr>\n",
       "      <th>2011-10-13 00:00:00+05:30</th>\n",
       "      <td>5130.799805</td>\n",
       "      <td>5136.950195</td>\n",
       "      <td>5067.649902</td>\n",
       "      <td>5077.850098</td>\n",
       "      <td>0</td>\n",
       "      <td>5132.299805</td>\n",
       "      <td>1</td>\n",
       "      <td>0.997883</td>\n",
       "      <td>1.0</td>\n",
       "      <td>1.014789</td>\n",
       "      <td>3.0</td>\n",
       "      <td>0.992330</td>\n",
       "      <td>23.0</td>\n",
       "      <td>0.911365</td>\n",
       "      <td>111.0</td>\n",
       "      <td>1.042939</td>\n",
       "      <td>510.0</td>\n",
       "    </tr>\n",
       "    <tr>\n",
       "      <th>2011-10-14 00:00:00+05:30</th>\n",
       "      <td>5057.350098</td>\n",
       "      <td>5141.399902</td>\n",
       "      <td>5056.600098</td>\n",
       "      <td>5132.299805</td>\n",
       "      <td>0</td>\n",
       "      <td>5118.250000</td>\n",
       "      <td>0</td>\n",
       "      <td>1.005333</td>\n",
       "      <td>1.0</td>\n",
       "      <td>1.015754</td>\n",
       "      <td>3.0</td>\n",
       "      <td>1.004393</td>\n",
       "      <td>24.0</td>\n",
       "      <td>0.921801</td>\n",
       "      <td>111.0</td>\n",
       "      <td>1.053995</td>\n",
       "      <td>510.0</td>\n",
       "    </tr>\n",
       "    <tr>\n",
       "      <th>2011-10-17 00:00:00+05:30</th>\n",
       "      <td>5156.200195</td>\n",
       "      <td>5160.200195</td>\n",
       "      <td>5084.500000</td>\n",
       "      <td>5118.250000</td>\n",
       "      <td>0</td>\n",
       "      <td>5037.500000</td>\n",
       "      <td>0</td>\n",
       "      <td>0.998629</td>\n",
       "      <td>1.0</td>\n",
       "      <td>1.007444</td>\n",
       "      <td>2.0</td>\n",
       "      <td>1.003264</td>\n",
       "      <td>23.0</td>\n",
       "      <td>0.919921</td>\n",
       "      <td>111.0</td>\n",
       "      <td>1.051026</td>\n",
       "      <td>509.0</td>\n",
       "    </tr>\n",
       "    <tr>\n",
       "      <th>2011-10-18 00:00:00+05:30</th>\n",
       "      <td>5049.450195</td>\n",
       "      <td>5057.500000</td>\n",
       "      <td>5011.049805</td>\n",
       "      <td>5037.500000</td>\n",
       "      <td>0</td>\n",
       "      <td>5139.149902</td>\n",
       "      <td>1</td>\n",
       "      <td>0.992049</td>\n",
       "      <td>0.0</td>\n",
       "      <td>0.989091</td>\n",
       "      <td>2.0</td>\n",
       "      <td>0.989147</td>\n",
       "      <td>23.0</td>\n",
       "      <td>0.906187</td>\n",
       "      <td>110.0</td>\n",
       "      <td>1.034383</td>\n",
       "      <td>508.0</td>\n",
       "    </tr>\n",
       "    <tr>\n",
       "      <th>2011-10-19 00:00:00+05:30</th>\n",
       "      <td>5080.450195</td>\n",
       "      <td>5148.049805</td>\n",
       "      <td>5075.299805</td>\n",
       "      <td>5139.149902</td>\n",
       "      <td>0</td>\n",
       "      <td>5091.899902</td>\n",
       "      <td>0</td>\n",
       "      <td>1.009989</td>\n",
       "      <td>1.0</td>\n",
       "      <td>1.007477</td>\n",
       "      <td>2.0</td>\n",
       "      <td>1.010438</td>\n",
       "      <td>24.0</td>\n",
       "      <td>0.925163</td>\n",
       "      <td>111.0</td>\n",
       "      <td>1.055190</td>\n",
       "      <td>508.0</td>\n",
       "    </tr>\n",
       "    <tr>\n",
       "      <th>...</th>\n",
       "      <td>...</td>\n",
       "      <td>...</td>\n",
       "      <td>...</td>\n",
       "      <td>...</td>\n",
       "      <td>...</td>\n",
       "      <td>...</td>\n",
       "      <td>...</td>\n",
       "      <td>...</td>\n",
       "      <td>...</td>\n",
       "      <td>...</td>\n",
       "      <td>...</td>\n",
       "      <td>...</td>\n",
       "      <td>...</td>\n",
       "      <td>...</td>\n",
       "      <td>...</td>\n",
       "      <td>...</td>\n",
       "      <td>...</td>\n",
       "    </tr>\n",
       "    <tr>\n",
       "      <th>2024-01-19 00:00:00+05:30</th>\n",
       "      <td>21615.199219</td>\n",
       "      <td>21670.599609</td>\n",
       "      <td>21575.000000</td>\n",
       "      <td>21622.400391</td>\n",
       "      <td>343100</td>\n",
       "      <td>21238.800781</td>\n",
       "      <td>0</td>\n",
       "      <td>1.003717</td>\n",
       "      <td>1.0</td>\n",
       "      <td>0.993801</td>\n",
       "      <td>2.0</td>\n",
       "      <td>1.051790</td>\n",
       "      <td>38.0</td>\n",
       "      <td>1.132749</td>\n",
       "      <td>146.0</td>\n",
       "      <td>1.358770</td>\n",
       "      <td>555.0</td>\n",
       "    </tr>\n",
       "    <tr>\n",
       "      <th>2024-01-23 00:00:00+05:30</th>\n",
       "      <td>21716.699219</td>\n",
       "      <td>21750.250000</td>\n",
       "      <td>21192.599609</td>\n",
       "      <td>21238.800781</td>\n",
       "      <td>449700</td>\n",
       "      <td>21453.949219</td>\n",
       "      <td>1</td>\n",
       "      <td>0.991050</td>\n",
       "      <td>1.0</td>\n",
       "      <td>0.983936</td>\n",
       "      <td>1.0</td>\n",
       "      <td>1.031494</td>\n",
       "      <td>38.0</td>\n",
       "      <td>1.111888</td>\n",
       "      <td>145.0</td>\n",
       "      <td>1.333892</td>\n",
       "      <td>555.0</td>\n",
       "    </tr>\n",
       "    <tr>\n",
       "      <th>2024-01-24 00:00:00+05:30</th>\n",
       "      <td>21185.250000</td>\n",
       "      <td>21482.349609</td>\n",
       "      <td>21137.199219</td>\n",
       "      <td>21453.949219</td>\n",
       "      <td>407500</td>\n",
       "      <td>21352.599609</td>\n",
       "      <td>0</td>\n",
       "      <td>1.005039</td>\n",
       "      <td>1.0</td>\n",
       "      <td>0.999258</td>\n",
       "      <td>2.0</td>\n",
       "      <td>1.039980</td>\n",
       "      <td>39.0</td>\n",
       "      <td>1.122315</td>\n",
       "      <td>146.0</td>\n",
       "      <td>1.346623</td>\n",
       "      <td>555.0</td>\n",
       "    </tr>\n",
       "    <tr>\n",
       "      <th>2024-01-25 00:00:00+05:30</th>\n",
       "      <td>21454.599609</td>\n",
       "      <td>21459.000000</td>\n",
       "      <td>21247.050781</td>\n",
       "      <td>21352.599609</td>\n",
       "      <td>418100</td>\n",
       "      <td>21737.599609</td>\n",
       "      <td>1</td>\n",
       "      <td>0.997632</td>\n",
       "      <td>1.0</td>\n",
       "      <td>0.996574</td>\n",
       "      <td>2.0</td>\n",
       "      <td>1.032984</td>\n",
       "      <td>39.0</td>\n",
       "      <td>1.116243</td>\n",
       "      <td>145.0</td>\n",
       "      <td>1.339497</td>\n",
       "      <td>554.0</td>\n",
       "    </tr>\n",
       "    <tr>\n",
       "      <th>2024-01-29 00:00:00+05:30</th>\n",
       "      <td>21433.099609</td>\n",
       "      <td>21763.250000</td>\n",
       "      <td>21429.599609</td>\n",
       "      <td>21737.599609</td>\n",
       "      <td>0</td>\n",
       "      <td>NaN</td>\n",
       "      <td>0</td>\n",
       "      <td>1.008935</td>\n",
       "      <td>1.0</td>\n",
       "      <td>1.011942</td>\n",
       "      <td>3.0</td>\n",
       "      <td>1.049334</td>\n",
       "      <td>39.0</td>\n",
       "      <td>1.135521</td>\n",
       "      <td>145.0</td>\n",
       "      <td>1.362844</td>\n",
       "      <td>554.0</td>\n",
       "    </tr>\n",
       "  </tbody>\n",
       "</table>\n",
       "<p>3010 rows × 17 columns</p>\n",
       "</div>"
      ],
      "text/plain": [
       "                                   Open          High           Low  \\\n",
       "Date                                                                  \n",
       "2011-10-13 00:00:00+05:30   5130.799805   5136.950195   5067.649902   \n",
       "2011-10-14 00:00:00+05:30   5057.350098   5141.399902   5056.600098   \n",
       "2011-10-17 00:00:00+05:30   5156.200195   5160.200195   5084.500000   \n",
       "2011-10-18 00:00:00+05:30   5049.450195   5057.500000   5011.049805   \n",
       "2011-10-19 00:00:00+05:30   5080.450195   5148.049805   5075.299805   \n",
       "...                                 ...           ...           ...   \n",
       "2024-01-19 00:00:00+05:30  21615.199219  21670.599609  21575.000000   \n",
       "2024-01-23 00:00:00+05:30  21716.699219  21750.250000  21192.599609   \n",
       "2024-01-24 00:00:00+05:30  21185.250000  21482.349609  21137.199219   \n",
       "2024-01-25 00:00:00+05:30  21454.599609  21459.000000  21247.050781   \n",
       "2024-01-29 00:00:00+05:30  21433.099609  21763.250000  21429.599609   \n",
       "\n",
       "                                  Close  Volume      Tomorrow  Target  \\\n",
       "Date                                                                    \n",
       "2011-10-13 00:00:00+05:30   5077.850098       0   5132.299805       1   \n",
       "2011-10-14 00:00:00+05:30   5132.299805       0   5118.250000       0   \n",
       "2011-10-17 00:00:00+05:30   5118.250000       0   5037.500000       0   \n",
       "2011-10-18 00:00:00+05:30   5037.500000       0   5139.149902       1   \n",
       "2011-10-19 00:00:00+05:30   5139.149902       0   5091.899902       0   \n",
       "...                                 ...     ...           ...     ...   \n",
       "2024-01-19 00:00:00+05:30  21622.400391  343100  21238.800781       0   \n",
       "2024-01-23 00:00:00+05:30  21238.800781  449700  21453.949219       1   \n",
       "2024-01-24 00:00:00+05:30  21453.949219  407500  21352.599609       0   \n",
       "2024-01-25 00:00:00+05:30  21352.599609  418100  21737.599609       1   \n",
       "2024-01-29 00:00:00+05:30  21737.599609       0           NaN       0   \n",
       "\n",
       "                           Close_Ratio_2  Trend_2  Close_Ratio_5  Trend_5  \\\n",
       "Date                                                                        \n",
       "2011-10-13 00:00:00+05:30       0.997883      1.0       1.014789      3.0   \n",
       "2011-10-14 00:00:00+05:30       1.005333      1.0       1.015754      3.0   \n",
       "2011-10-17 00:00:00+05:30       0.998629      1.0       1.007444      2.0   \n",
       "2011-10-18 00:00:00+05:30       0.992049      0.0       0.989091      2.0   \n",
       "2011-10-19 00:00:00+05:30       1.009989      1.0       1.007477      2.0   \n",
       "...                                  ...      ...            ...      ...   \n",
       "2024-01-19 00:00:00+05:30       1.003717      1.0       0.993801      2.0   \n",
       "2024-01-23 00:00:00+05:30       0.991050      1.0       0.983936      1.0   \n",
       "2024-01-24 00:00:00+05:30       1.005039      1.0       0.999258      2.0   \n",
       "2024-01-25 00:00:00+05:30       0.997632      1.0       0.996574      2.0   \n",
       "2024-01-29 00:00:00+05:30       1.008935      1.0       1.011942      3.0   \n",
       "\n",
       "                           Close_Ratio_60  Trend_60  Close_Ratio_250  \\\n",
       "Date                                                                   \n",
       "2011-10-13 00:00:00+05:30        0.992330      23.0         0.911365   \n",
       "2011-10-14 00:00:00+05:30        1.004393      24.0         0.921801   \n",
       "2011-10-17 00:00:00+05:30        1.003264      23.0         0.919921   \n",
       "2011-10-18 00:00:00+05:30        0.989147      23.0         0.906187   \n",
       "2011-10-19 00:00:00+05:30        1.010438      24.0         0.925163   \n",
       "...                                   ...       ...              ...   \n",
       "2024-01-19 00:00:00+05:30        1.051790      38.0         1.132749   \n",
       "2024-01-23 00:00:00+05:30        1.031494      38.0         1.111888   \n",
       "2024-01-24 00:00:00+05:30        1.039980      39.0         1.122315   \n",
       "2024-01-25 00:00:00+05:30        1.032984      39.0         1.116243   \n",
       "2024-01-29 00:00:00+05:30        1.049334      39.0         1.135521   \n",
       "\n",
       "                           Trend_250  Close_Ratio_1000  Trend_1000  \n",
       "Date                                                                \n",
       "2011-10-13 00:00:00+05:30      111.0          1.042939       510.0  \n",
       "2011-10-14 00:00:00+05:30      111.0          1.053995       510.0  \n",
       "2011-10-17 00:00:00+05:30      111.0          1.051026       509.0  \n",
       "2011-10-18 00:00:00+05:30      110.0          1.034383       508.0  \n",
       "2011-10-19 00:00:00+05:30      111.0          1.055190       508.0  \n",
       "...                              ...               ...         ...  \n",
       "2024-01-19 00:00:00+05:30      146.0          1.358770       555.0  \n",
       "2024-01-23 00:00:00+05:30      145.0          1.333892       555.0  \n",
       "2024-01-24 00:00:00+05:30      146.0          1.346623       555.0  \n",
       "2024-01-25 00:00:00+05:30      145.0          1.339497       554.0  \n",
       "2024-01-29 00:00:00+05:30      145.0          1.362844       554.0  \n",
       "\n",
       "[3010 rows x 17 columns]"
      ]
     },
     "execution_count": 27,
     "metadata": {},
     "output_type": "execute_result"
    }
   ],
   "source": [
    "nifty50"
   ]
  },
  {
   "cell_type": "code",
   "execution_count": 28,
   "id": "e99d7ed3",
   "metadata": {},
   "outputs": [],
   "source": [
    "model = RandomForestClassifier(n_estimators=200, min_samples_split=50, random_state=1)"
   ]
  },
  {
   "cell_type": "code",
   "execution_count": 29,
   "id": "6ee247e6",
   "metadata": {},
   "outputs": [],
   "source": [
    "def predict(train, test, predictors, model):\n",
    "    model.fit(train[predictors], train[\"Target\"])\n",
    "    preds = model.predict_proba(test[predictors])[:,1]\n",
    "    preds[preds >=.6] = 1\n",
    "    preds[preds <.6] = 0\n",
    "    preds = pd.Series(preds, index=test.index, name=\"Predictions\")\n",
    "    combined = pd.concat([test[\"Target\"], preds], axis=1)\n",
    "    return combined"
   ]
  },
  {
   "cell_type": "code",
   "execution_count": 30,
   "id": "00b5a59d",
   "metadata": {},
   "outputs": [],
   "source": [
    "predictions = backtest(nifty50, model, new_predictors)"
   ]
  },
  {
   "cell_type": "code",
   "execution_count": 31,
   "id": "51332d29",
   "metadata": {},
   "outputs": [
    {
     "data": {
      "text/plain": [
       "0.0    456\n",
       "1.0     54\n",
       "Name: Predictions, dtype: int64"
      ]
     },
     "execution_count": 31,
     "metadata": {},
     "output_type": "execute_result"
    }
   ],
   "source": [
    "predictions[\"Predictions\"].value_counts()"
   ]
  },
  {
   "cell_type": "code",
   "execution_count": 32,
   "id": "7b95cfa6",
   "metadata": {},
   "outputs": [
    {
     "data": {
      "text/plain": [
       "0.5925925925925926"
      ]
     },
     "execution_count": 32,
     "metadata": {},
     "output_type": "execute_result"
    }
   ],
   "source": [
    " precision_score(predictions[\"Target\"], predictions[\"Predictions\"])"
   ]
  },
  {
   "cell_type": "code",
   "execution_count": 33,
   "id": "247818fd",
   "metadata": {},
   "outputs": [
    {
     "data": {
      "text/plain": [
       "1    0.535294\n",
       "0    0.464706\n",
       "Name: Target, dtype: float64"
      ]
     },
     "execution_count": 33,
     "metadata": {},
     "output_type": "execute_result"
    }
   ],
   "source": [
    "predictions[\"Target\"].value_counts() / predictions.shape[0]"
   ]
  },
  {
   "cell_type": "code",
   "execution_count": 34,
   "id": "e74d6160",
   "metadata": {},
   "outputs": [
    {
     "data": {
      "text/html": [
       "<div>\n",
       "<style scoped>\n",
       "    .dataframe tbody tr th:only-of-type {\n",
       "        vertical-align: middle;\n",
       "    }\n",
       "\n",
       "    .dataframe tbody tr th {\n",
       "        vertical-align: top;\n",
       "    }\n",
       "\n",
       "    .dataframe thead th {\n",
       "        text-align: right;\n",
       "    }\n",
       "</style>\n",
       "<table border=\"1\" class=\"dataframe\">\n",
       "  <thead>\n",
       "    <tr style=\"text-align: right;\">\n",
       "      <th></th>\n",
       "      <th>Target</th>\n",
       "      <th>Predictions</th>\n",
       "    </tr>\n",
       "    <tr>\n",
       "      <th>Date</th>\n",
       "      <th></th>\n",
       "      <th></th>\n",
       "    </tr>\n",
       "  </thead>\n",
       "  <tbody>\n",
       "    <tr>\n",
       "      <th>2022-01-04 00:00:00+05:30</th>\n",
       "      <td>1</td>\n",
       "      <td>0.0</td>\n",
       "    </tr>\n",
       "    <tr>\n",
       "      <th>2022-01-05 00:00:00+05:30</th>\n",
       "      <td>0</td>\n",
       "      <td>0.0</td>\n",
       "    </tr>\n",
       "    <tr>\n",
       "      <th>2022-01-06 00:00:00+05:30</th>\n",
       "      <td>1</td>\n",
       "      <td>0.0</td>\n",
       "    </tr>\n",
       "    <tr>\n",
       "      <th>2022-01-07 00:00:00+05:30</th>\n",
       "      <td>1</td>\n",
       "      <td>0.0</td>\n",
       "    </tr>\n",
       "    <tr>\n",
       "      <th>2022-01-10 00:00:00+05:30</th>\n",
       "      <td>1</td>\n",
       "      <td>1.0</td>\n",
       "    </tr>\n",
       "    <tr>\n",
       "      <th>...</th>\n",
       "      <td>...</td>\n",
       "      <td>...</td>\n",
       "    </tr>\n",
       "    <tr>\n",
       "      <th>2024-01-19 00:00:00+05:30</th>\n",
       "      <td>0</td>\n",
       "      <td>1.0</td>\n",
       "    </tr>\n",
       "    <tr>\n",
       "      <th>2024-01-23 00:00:00+05:30</th>\n",
       "      <td>1</td>\n",
       "      <td>0.0</td>\n",
       "    </tr>\n",
       "    <tr>\n",
       "      <th>2024-01-24 00:00:00+05:30</th>\n",
       "      <td>0</td>\n",
       "      <td>1.0</td>\n",
       "    </tr>\n",
       "    <tr>\n",
       "      <th>2024-01-25 00:00:00+05:30</th>\n",
       "      <td>1</td>\n",
       "      <td>0.0</td>\n",
       "    </tr>\n",
       "    <tr>\n",
       "      <th>2024-01-29 00:00:00+05:30</th>\n",
       "      <td>0</td>\n",
       "      <td>1.0</td>\n",
       "    </tr>\n",
       "  </tbody>\n",
       "</table>\n",
       "<p>510 rows × 2 columns</p>\n",
       "</div>"
      ],
      "text/plain": [
       "                           Target  Predictions\n",
       "Date                                          \n",
       "2022-01-04 00:00:00+05:30       1          0.0\n",
       "2022-01-05 00:00:00+05:30       0          0.0\n",
       "2022-01-06 00:00:00+05:30       1          0.0\n",
       "2022-01-07 00:00:00+05:30       1          0.0\n",
       "2022-01-10 00:00:00+05:30       1          1.0\n",
       "...                           ...          ...\n",
       "2024-01-19 00:00:00+05:30       0          1.0\n",
       "2024-01-23 00:00:00+05:30       1          0.0\n",
       "2024-01-24 00:00:00+05:30       0          1.0\n",
       "2024-01-25 00:00:00+05:30       1          0.0\n",
       "2024-01-29 00:00:00+05:30       0          1.0\n",
       "\n",
       "[510 rows x 2 columns]"
      ]
     },
     "execution_count": 34,
     "metadata": {},
     "output_type": "execute_result"
    }
   ],
   "source": [
    "predictions"
   ]
  },
  {
   "cell_type": "code",
   "execution_count": null,
   "id": "823da9e9",
   "metadata": {},
   "outputs": [],
   "source": []
  }
 ],
 "metadata": {
  "kernelspec": {
   "display_name": "Python 3 (ipykernel)",
   "language": "python",
   "name": "python3"
  },
  "language_info": {
   "codemirror_mode": {
    "name": "ipython",
    "version": 3
   },
   "file_extension": ".py",
   "mimetype": "text/x-python",
   "name": "python",
   "nbconvert_exporter": "python",
   "pygments_lexer": "ipython3",
   "version": "3.9.13"
  }
 },
 "nbformat": 4,
 "nbformat_minor": 5
}
